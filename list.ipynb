{
 "cells": [
  {
   "cell_type": "code",
   "execution_count": null,
   "id": "cfb8500b-010e-4257-bddb-1c3d0646222f",
   "metadata": {},
   "outputs": [],
   "source": [
    "#getting the input of the user\n",
    "n = input(\"Enter your  inputs seperated by spaces: \")\n",
    "\n",
    "#coverting the numbers to list\n",
    "writeyourcodehere = n.split()\n",
    "\n",
    "#assign the first, the middle,the last integers\n",
    "first, *middle, last = writeyourcodehere \n",
    "\n",
    "#print output\n",
    "print(\"first: \" + str(first))\n",
    "print(\"middle: \" + str(middle))\n",
    "print(\"last: \" + str(last))\n"
   ]
  }
 ],
 "metadata": {
  "kernelspec": {
   "display_name": "",
   "name": ""
  },
  "language_info": {
   "name": ""
  }
 },
 "nbformat": 4,
 "nbformat_minor": 5
}

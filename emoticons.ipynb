{
 "cells": [
  {
   "cell_type": "code",
   "execution_count": null,
   "id": "e0e44462-2c62-4368-adef-65ace717d9d7",
   "metadata": {},
   "outputs": [],
   "source": [
    "#declare set of values\n",
    "words = {\"smile\": \":)\", \"grin\": \":D\", \"sad\": \":(\", \"mad\": \">:(\"}\n",
    "\n",
    "#output options\n",
    "print(\"These are the only words that can be turned into emoticons: \" + str(words))\n",
    "\n",
    "#get user input\n",
    "n = input(\"Use any of these words in a sentence: \")\n",
    "\n",
    "#function to replace keys with values\n",
    "def emotify(n):\n",
    "    for key, values in words.items():\n",
    "        n = n.replace(key, values)\n",
    "    print(n) #output the results\n",
    "\n",
    "#calling the function\n",
    "emotify(n)"
   ]
  }
 ],
 "metadata": {
  "kernelspec": {
   "display_name": "",
   "name": ""
  },
  "language_info": {
   "name": ""
  }
 },
 "nbformat": 4,
 "nbformat_minor": 5
}

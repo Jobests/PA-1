{
 "cells": [
  {
   "cell_type": "code",
   "execution_count": null,
   "id": "c721a123-7609-4177-8812-36bf3dc5e92b",
   "metadata": {},
   "outputs": [],
   "source": [
    "#use function to sort out the words into alphatbetical order \n",
    "def alphabet_soup(a):\n",
    "    b = ''.join(sorted(a))\n",
    "    return b\n",
    "\n",
    "#get user input\n",
    "a = input(\"Enter word: \")\n",
    "\n",
    "#call the function\n",
    "b = alphabet_soup(a)\n",
    "\n",
    "#output the result\n",
    "print(b)"
   ]
  }
 ],
 "metadata": {
  "kernelspec": {
   "display_name": "",
   "name": ""
  },
  "language_info": {
   "name": ""
  }
 },
 "nbformat": 4,
 "nbformat_minor": 5
}
